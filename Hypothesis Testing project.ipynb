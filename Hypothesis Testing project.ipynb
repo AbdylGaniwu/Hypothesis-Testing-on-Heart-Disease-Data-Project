{
 "cells": [
  {
   "cell_type": "markdown",
   "id": "1c37a3e8-8ec1-4260-8f54-7d97b383c42b",
   "metadata": {},
   "source": [
    "# Hypothesis Testing on Heart Disease Data Project"
   ]
  },
  {
   "cell_type": "code",
   "execution_count": 64,
   "id": "0e2a9e73-badf-41dc-8177-7f84727e4d88",
   "metadata": {},
   "outputs": [],
   "source": [
    "import pandas as pd\n",
    "import numpy as np\n",
    "from scipy.stats import ttest_1samp, binom"
   ]
  },
  {
   "cell_type": "code",
   "execution_count": null,
   "id": "b34c9809-b38a-44e6-bd06-3ebdd7c850cd",
   "metadata": {},
   "outputs": [],
   "source": []
  },
  {
   "cell_type": "markdown",
   "id": "6d1ec390-8737-4ecc-bb26-007d4eb057be",
   "metadata": {},
   "source": [
    "# Load the dataset:"
   ]
  },
  {
   "cell_type": "code",
   "execution_count": 65,
   "id": "c4fb295a-c0c6-4eeb-8148-927661befcf7",
   "metadata": {},
   "outputs": [
    {
     "data": {
      "text/html": [
       "<div>\n",
       "<style scoped>\n",
       "    .dataframe tbody tr th:only-of-type {\n",
       "        vertical-align: middle;\n",
       "    }\n",
       "\n",
       "    .dataframe tbody tr th {\n",
       "        vertical-align: top;\n",
       "    }\n",
       "\n",
       "    .dataframe thead th {\n",
       "        text-align: right;\n",
       "    }\n",
       "</style>\n",
       "<table border=\"1\" class=\"dataframe\">\n",
       "  <thead>\n",
       "    <tr style=\"text-align: right;\">\n",
       "      <th></th>\n",
       "      <th>age</th>\n",
       "      <th>sex</th>\n",
       "      <th>trestbps</th>\n",
       "      <th>chol</th>\n",
       "      <th>cp</th>\n",
       "      <th>exang</th>\n",
       "      <th>fbs</th>\n",
       "      <th>thalach</th>\n",
       "      <th>heart_disease</th>\n",
       "    </tr>\n",
       "  </thead>\n",
       "  <tbody>\n",
       "    <tr>\n",
       "      <th>0</th>\n",
       "      <td>63</td>\n",
       "      <td>male</td>\n",
       "      <td>145</td>\n",
       "      <td>233</td>\n",
       "      <td>typical angina</td>\n",
       "      <td>0</td>\n",
       "      <td>1</td>\n",
       "      <td>150</td>\n",
       "      <td>absence</td>\n",
       "    </tr>\n",
       "    <tr>\n",
       "      <th>1</th>\n",
       "      <td>67</td>\n",
       "      <td>male</td>\n",
       "      <td>160</td>\n",
       "      <td>286</td>\n",
       "      <td>asymptomatic</td>\n",
       "      <td>1</td>\n",
       "      <td>0</td>\n",
       "      <td>108</td>\n",
       "      <td>presence</td>\n",
       "    </tr>\n",
       "    <tr>\n",
       "      <th>2</th>\n",
       "      <td>67</td>\n",
       "      <td>male</td>\n",
       "      <td>120</td>\n",
       "      <td>229</td>\n",
       "      <td>asymptomatic</td>\n",
       "      <td>1</td>\n",
       "      <td>0</td>\n",
       "      <td>129</td>\n",
       "      <td>presence</td>\n",
       "    </tr>\n",
       "    <tr>\n",
       "      <th>3</th>\n",
       "      <td>37</td>\n",
       "      <td>male</td>\n",
       "      <td>130</td>\n",
       "      <td>250</td>\n",
       "      <td>non-anginal pain</td>\n",
       "      <td>0</td>\n",
       "      <td>0</td>\n",
       "      <td>187</td>\n",
       "      <td>absence</td>\n",
       "    </tr>\n",
       "    <tr>\n",
       "      <th>4</th>\n",
       "      <td>41</td>\n",
       "      <td>female</td>\n",
       "      <td>130</td>\n",
       "      <td>204</td>\n",
       "      <td>atypical angina</td>\n",
       "      <td>0</td>\n",
       "      <td>0</td>\n",
       "      <td>172</td>\n",
       "      <td>absence</td>\n",
       "    </tr>\n",
       "  </tbody>\n",
       "</table>\n",
       "</div>"
      ],
      "text/plain": [
       "   age     sex  trestbps  chol                cp  exang  fbs  thalach  \\\n",
       "0   63    male       145   233    typical angina      0    1      150   \n",
       "1   67    male       160   286      asymptomatic      1    0      108   \n",
       "2   67    male       120   229      asymptomatic      1    0      129   \n",
       "3   37    male       130   250  non-anginal pain      0    0      187   \n",
       "4   41  female       130   204   atypical angina      0    0      172   \n",
       "\n",
       "  heart_disease  \n",
       "0       absence  \n",
       "1      presence  \n",
       "2      presence  \n",
       "3       absence  \n",
       "4       absence  "
      ]
     },
     "execution_count": 65,
     "metadata": {},
     "output_type": "execute_result"
    }
   ],
   "source": [
    "df = pd.read_csv('heart_disease.csv')\n",
    "\n",
    "# first few rows of the dataset\n",
    "df.head()"
   ]
  },
  {
   "cell_type": "code",
   "execution_count": null,
   "id": "c46e3128-7adc-4976-9f77-b4132326befd",
   "metadata": {},
   "outputs": [],
   "source": []
  },
  {
   "cell_type": "markdown",
   "id": "de968809-8b33-4c13-9378-0b6af14081ca",
   "metadata": {},
   "source": [
    "# Data Assessment:"
   ]
  },
  {
   "cell_type": "markdown",
   "id": "63aa9fd2-c332-481d-8c7d-176042812384",
   "metadata": {},
   "source": [
    "### a) Types of Data:"
   ]
  },
  {
   "cell_type": "code",
   "execution_count": 48,
   "id": "71c4d623-2285-426d-af61-cea77080a281",
   "metadata": {},
   "outputs": [
    {
     "name": "stdout",
     "output_type": "stream",
     "text": [
      "<class 'pandas.core.frame.DataFrame'>\n",
      "RangeIndex: 303 entries, 0 to 302\n",
      "Data columns (total 9 columns):\n",
      " #   Column         Non-Null Count  Dtype \n",
      "---  ------         --------------  ----- \n",
      " 0   age            303 non-null    int64 \n",
      " 1   sex            303 non-null    object\n",
      " 2   trestbps       303 non-null    int64 \n",
      " 3   chol           303 non-null    int64 \n",
      " 4   cp             303 non-null    object\n",
      " 5   exang          303 non-null    int64 \n",
      " 6   fbs            303 non-null    int64 \n",
      " 7   thalach        303 non-null    int64 \n",
      " 8   heart_disease  303 non-null    object\n",
      "dtypes: int64(6), object(3)\n",
      "memory usage: 21.4+ KB\n"
     ]
    }
   ],
   "source": [
    "df.info()"
   ]
  },
  {
   "cell_type": "code",
   "execution_count": null,
   "id": "c9da463f-184f-458f-9b35-86ac2fce611a",
   "metadata": {},
   "outputs": [],
   "source": []
  },
  {
   "cell_type": "markdown",
   "id": "a28e6515-5b3f-405f-a6e2-8defa6b6b064",
   "metadata": {},
   "source": [
    "### b) Column Names:"
   ]
  },
  {
   "cell_type": "code",
   "execution_count": 49,
   "id": "17780df5-23f4-43eb-b559-828829d99fd5",
   "metadata": {},
   "outputs": [
    {
     "data": {
      "text/plain": [
       "['age',\n",
       " 'sex',\n",
       " 'trestbps',\n",
       " 'chol',\n",
       " 'cp',\n",
       " 'exang',\n",
       " 'fbs',\n",
       " 'thalach',\n",
       " 'heart_disease']"
      ]
     },
     "execution_count": 49,
     "metadata": {},
     "output_type": "execute_result"
    }
   ],
   "source": [
    "list(df)"
   ]
  },
  {
   "cell_type": "code",
   "execution_count": null,
   "id": "3f47a79c-48f4-49d6-ac78-54e5718da16e",
   "metadata": {},
   "outputs": [],
   "source": []
  },
  {
   "cell_type": "markdown",
   "id": "d3df2477-0f29-4127-8dd5-223dd4c9fda3",
   "metadata": {},
   "source": [
    "### c) Total Number of Rows:"
   ]
  },
  {
   "cell_type": "code",
   "execution_count": 50,
   "id": "5375a562-b96f-4a86-940d-f620044d9425",
   "metadata": {},
   "outputs": [
    {
     "data": {
      "text/plain": [
       "303"
      ]
     },
     "execution_count": 50,
     "metadata": {},
     "output_type": "execute_result"
    }
   ],
   "source": [
    "len(df)"
   ]
  },
  {
   "cell_type": "code",
   "execution_count": null,
   "id": "8a382298-85e4-4858-ae4a-a4f54adf0885",
   "metadata": {},
   "outputs": [],
   "source": []
  },
  {
   "cell_type": "markdown",
   "id": "2f179578-c726-4b47-afad-691ea7c64816",
   "metadata": {},
   "source": [
    "### d) Checking for total number of duplicate rows:"
   ]
  },
  {
   "cell_type": "code",
   "execution_count": 51,
   "id": "e92636f4-e2c5-4750-9a14-c8f20212f75d",
   "metadata": {},
   "outputs": [
    {
     "data": {
      "text/plain": [
       "age              0\n",
       "sex              0\n",
       "trestbps         0\n",
       "chol             0\n",
       "cp               0\n",
       "exang            0\n",
       "fbs              0\n",
       "thalach          0\n",
       "heart_disease    0\n",
       "dtype: int64"
      ]
     },
     "execution_count": 51,
     "metadata": {},
     "output_type": "execute_result"
    }
   ],
   "source": [
    "df.isnull().sum()"
   ]
  },
  {
   "cell_type": "code",
   "execution_count": null,
   "id": "8e11f5f2-e613-4683-a510-98ec4b96d58c",
   "metadata": {},
   "outputs": [],
   "source": []
  },
  {
   "cell_type": "markdown",
   "id": "ad8b7fb1-fd9d-4dbe-8ef5-1ac060eaf532",
   "metadata": {},
   "source": [
    "### e) Checking for total number of duplicate rows:"
   ]
  },
  {
   "cell_type": "code",
   "execution_count": 56,
   "id": "765c8e09-0a61-49dc-907a-f739b67b92f2",
   "metadata": {},
   "outputs": [
    {
     "data": {
      "text/plain": [
       "0"
      ]
     },
     "execution_count": 56,
     "metadata": {},
     "output_type": "execute_result"
    }
   ],
   "source": [
    "df.duplicated().sum()"
   ]
  },
  {
   "cell_type": "code",
   "execution_count": null,
   "id": "073d2fc2-1ce3-491d-a9fc-83208fdd6a90",
   "metadata": {},
   "outputs": [],
   "source": []
  },
  {
   "cell_type": "code",
   "execution_count": null,
   "id": "ea44d6c8-ca47-4693-a1ca-edebe60e27e8",
   "metadata": {},
   "outputs": [],
   "source": []
  },
  {
   "cell_type": "markdown",
   "id": "77805902-afb5-4749-be09-4baa2ff1f324",
   "metadata": {},
   "source": [
    "# Analysis"
   ]
  },
  {
   "cell_type": "markdown",
   "id": "def9debe-9910-4049-b515-7bd69eeff9b1",
   "metadata": {},
   "source": [
    "### Splitting the dataset based on heart disease `presence` or `absence`:"
   ]
  },
  {
   "cell_type": "markdown",
   "id": "001ee658-9c87-4fb9-865e-83dcbfe9637b",
   "metadata": {},
   "source": [
    "### i) Presence of heart disease:"
   ]
  },
  {
   "cell_type": "code",
   "execution_count": 57,
   "id": "42ff0104-52a8-4459-ae1f-f2c676659434",
   "metadata": {},
   "outputs": [
    {
     "data": {
      "text/html": [
       "<div>\n",
       "<style scoped>\n",
       "    .dataframe tbody tr th:only-of-type {\n",
       "        vertical-align: middle;\n",
       "    }\n",
       "\n",
       "    .dataframe tbody tr th {\n",
       "        vertical-align: top;\n",
       "    }\n",
       "\n",
       "    .dataframe thead th {\n",
       "        text-align: right;\n",
       "    }\n",
       "</style>\n",
       "<table border=\"1\" class=\"dataframe\">\n",
       "  <thead>\n",
       "    <tr style=\"text-align: right;\">\n",
       "      <th></th>\n",
       "      <th>age</th>\n",
       "      <th>sex</th>\n",
       "      <th>trestbps</th>\n",
       "      <th>chol</th>\n",
       "      <th>cp</th>\n",
       "      <th>exang</th>\n",
       "      <th>fbs</th>\n",
       "      <th>thalach</th>\n",
       "      <th>heart_disease</th>\n",
       "    </tr>\n",
       "  </thead>\n",
       "  <tbody>\n",
       "    <tr>\n",
       "      <th>1</th>\n",
       "      <td>67</td>\n",
       "      <td>male</td>\n",
       "      <td>160</td>\n",
       "      <td>286</td>\n",
       "      <td>asymptomatic</td>\n",
       "      <td>1</td>\n",
       "      <td>0</td>\n",
       "      <td>108</td>\n",
       "      <td>presence</td>\n",
       "    </tr>\n",
       "    <tr>\n",
       "      <th>2</th>\n",
       "      <td>67</td>\n",
       "      <td>male</td>\n",
       "      <td>120</td>\n",
       "      <td>229</td>\n",
       "      <td>asymptomatic</td>\n",
       "      <td>1</td>\n",
       "      <td>0</td>\n",
       "      <td>129</td>\n",
       "      <td>presence</td>\n",
       "    </tr>\n",
       "    <tr>\n",
       "      <th>6</th>\n",
       "      <td>62</td>\n",
       "      <td>female</td>\n",
       "      <td>140</td>\n",
       "      <td>268</td>\n",
       "      <td>asymptomatic</td>\n",
       "      <td>0</td>\n",
       "      <td>0</td>\n",
       "      <td>160</td>\n",
       "      <td>presence</td>\n",
       "    </tr>\n",
       "    <tr>\n",
       "      <th>8</th>\n",
       "      <td>63</td>\n",
       "      <td>male</td>\n",
       "      <td>130</td>\n",
       "      <td>254</td>\n",
       "      <td>asymptomatic</td>\n",
       "      <td>0</td>\n",
       "      <td>0</td>\n",
       "      <td>147</td>\n",
       "      <td>presence</td>\n",
       "    </tr>\n",
       "    <tr>\n",
       "      <th>9</th>\n",
       "      <td>53</td>\n",
       "      <td>male</td>\n",
       "      <td>140</td>\n",
       "      <td>203</td>\n",
       "      <td>asymptomatic</td>\n",
       "      <td>1</td>\n",
       "      <td>1</td>\n",
       "      <td>155</td>\n",
       "      <td>presence</td>\n",
       "    </tr>\n",
       "  </tbody>\n",
       "</table>\n",
       "</div>"
      ],
      "text/plain": [
       "   age     sex  trestbps  chol            cp  exang  fbs  thalach  \\\n",
       "1   67    male       160   286  asymptomatic      1    0      108   \n",
       "2   67    male       120   229  asymptomatic      1    0      129   \n",
       "6   62  female       140   268  asymptomatic      0    0      160   \n",
       "8   63    male       130   254  asymptomatic      0    0      147   \n",
       "9   53    male       140   203  asymptomatic      1    1      155   \n",
       "\n",
       "  heart_disease  \n",
       "1      presence  \n",
       "2      presence  \n",
       "6      presence  \n",
       "8      presence  \n",
       "9      presence  "
      ]
     },
     "execution_count": 57,
     "metadata": {},
     "output_type": "execute_result"
    }
   ],
   "source": [
    "yes_hd = df[df.heart_disease == 'presence']\n",
    "yes_hd.head()"
   ]
  },
  {
   "cell_type": "code",
   "execution_count": null,
   "id": "2a99563e-016e-40ee-b954-936d267fe5f7",
   "metadata": {},
   "outputs": [],
   "source": []
  },
  {
   "cell_type": "markdown",
   "id": "22316cc0-4f72-4d88-b031-013872e038fb",
   "metadata": {},
   "source": [
    "### ii) Absence of heart disease:"
   ]
  },
  {
   "cell_type": "code",
   "execution_count": 58,
   "id": "ae7e789e-7d1f-40c9-b4a0-ed94b50bfa1e",
   "metadata": {},
   "outputs": [
    {
     "data": {
      "text/html": [
       "<div>\n",
       "<style scoped>\n",
       "    .dataframe tbody tr th:only-of-type {\n",
       "        vertical-align: middle;\n",
       "    }\n",
       "\n",
       "    .dataframe tbody tr th {\n",
       "        vertical-align: top;\n",
       "    }\n",
       "\n",
       "    .dataframe thead th {\n",
       "        text-align: right;\n",
       "    }\n",
       "</style>\n",
       "<table border=\"1\" class=\"dataframe\">\n",
       "  <thead>\n",
       "    <tr style=\"text-align: right;\">\n",
       "      <th></th>\n",
       "      <th>age</th>\n",
       "      <th>sex</th>\n",
       "      <th>trestbps</th>\n",
       "      <th>chol</th>\n",
       "      <th>cp</th>\n",
       "      <th>exang</th>\n",
       "      <th>fbs</th>\n",
       "      <th>thalach</th>\n",
       "      <th>heart_disease</th>\n",
       "    </tr>\n",
       "  </thead>\n",
       "  <tbody>\n",
       "    <tr>\n",
       "      <th>0</th>\n",
       "      <td>63</td>\n",
       "      <td>male</td>\n",
       "      <td>145</td>\n",
       "      <td>233</td>\n",
       "      <td>typical angina</td>\n",
       "      <td>0</td>\n",
       "      <td>1</td>\n",
       "      <td>150</td>\n",
       "      <td>absence</td>\n",
       "    </tr>\n",
       "    <tr>\n",
       "      <th>3</th>\n",
       "      <td>37</td>\n",
       "      <td>male</td>\n",
       "      <td>130</td>\n",
       "      <td>250</td>\n",
       "      <td>non-anginal pain</td>\n",
       "      <td>0</td>\n",
       "      <td>0</td>\n",
       "      <td>187</td>\n",
       "      <td>absence</td>\n",
       "    </tr>\n",
       "    <tr>\n",
       "      <th>4</th>\n",
       "      <td>41</td>\n",
       "      <td>female</td>\n",
       "      <td>130</td>\n",
       "      <td>204</td>\n",
       "      <td>atypical angina</td>\n",
       "      <td>0</td>\n",
       "      <td>0</td>\n",
       "      <td>172</td>\n",
       "      <td>absence</td>\n",
       "    </tr>\n",
       "    <tr>\n",
       "      <th>5</th>\n",
       "      <td>56</td>\n",
       "      <td>male</td>\n",
       "      <td>120</td>\n",
       "      <td>236</td>\n",
       "      <td>atypical angina</td>\n",
       "      <td>0</td>\n",
       "      <td>0</td>\n",
       "      <td>178</td>\n",
       "      <td>absence</td>\n",
       "    </tr>\n",
       "    <tr>\n",
       "      <th>7</th>\n",
       "      <td>57</td>\n",
       "      <td>female</td>\n",
       "      <td>120</td>\n",
       "      <td>354</td>\n",
       "      <td>asymptomatic</td>\n",
       "      <td>1</td>\n",
       "      <td>0</td>\n",
       "      <td>163</td>\n",
       "      <td>absence</td>\n",
       "    </tr>\n",
       "  </tbody>\n",
       "</table>\n",
       "</div>"
      ],
      "text/plain": [
       "   age     sex  trestbps  chol                cp  exang  fbs  thalach  \\\n",
       "0   63    male       145   233    typical angina      0    1      150   \n",
       "3   37    male       130   250  non-anginal pain      0    0      187   \n",
       "4   41  female       130   204   atypical angina      0    0      172   \n",
       "5   56    male       120   236   atypical angina      0    0      178   \n",
       "7   57  female       120   354      asymptomatic      1    0      163   \n",
       "\n",
       "  heart_disease  \n",
       "0       absence  \n",
       "3       absence  \n",
       "4       absence  \n",
       "5       absence  \n",
       "7       absence  "
      ]
     },
     "execution_count": 58,
     "metadata": {},
     "output_type": "execute_result"
    }
   ],
   "source": [
    "no_hd = df[df.heart_disease == 'absence']\n",
    "no_hd.head()"
   ]
  },
  {
   "cell_type": "code",
   "execution_count": null,
   "id": "e21bef15-9b2b-4ac7-9673-9da57bc3ea2f",
   "metadata": {},
   "outputs": [],
   "source": []
  },
  {
   "cell_type": "code",
   "execution_count": null,
   "id": "43db7c43-3219-4fc6-b0f9-6c3ce24acc07",
   "metadata": {},
   "outputs": [],
   "source": []
  },
  {
   "cell_type": "markdown",
   "id": "6c419100-b25f-4373-a9bc-8b55900af141",
   "metadata": {},
   "source": [
    "# Cholestrol level Analysis"
   ]
  },
  {
   "cell_type": "markdown",
   "id": "8493d146-a293-4de8-b7d5-cca468852aa2",
   "metadata": {},
   "source": [
    "## Question 1: Calculate the mean cholesterol level for patients `with heart disease`? (Cholestrol level above 240 mg/dL is considered high)"
   ]
  },
  {
   "cell_type": "code",
   "execution_count": null,
   "id": "eab06c40-f46e-4c04-a7cd-7b03d1080995",
   "metadata": {},
   "outputs": [],
   "source": []
  },
  {
   "cell_type": "code",
   "execution_count": 68,
   "id": "2874b9ba-dabc-482a-b282-9817678558f9",
   "metadata": {},
   "outputs": [
    {
     "name": "stdout",
     "output_type": "stream",
     "text": [
      "251.4748201438849\n"
     ]
    }
   ],
   "source": [
    "cholestrol_level_yes = yes_hd.chol\n",
    "\n",
    "# Calculate the mean:\n",
    "print(np.mean(cholestrol_level_yes))"
   ]
  },
  {
   "cell_type": "markdown",
   "id": "33db7276-0901-4301-9aac-e66bb8eff1d9",
   "metadata": {},
   "source": [
    "### Therefore: total cholesterol over 240 mg/dl is considered “high” (and therefore unhealthy) with high heart disease."
   ]
  },
  {
   "cell_type": "code",
   "execution_count": null,
   "id": "0f40752e-57eb-44fd-b3b7-566080547d1d",
   "metadata": {},
   "outputs": [],
   "source": []
  },
  {
   "cell_type": "code",
   "execution_count": null,
   "id": "7193707c-13f8-44e2-b76d-898c0dfb3c55",
   "metadata": {},
   "outputs": [],
   "source": []
  },
  {
   "cell_type": "markdown",
   "id": "cded2b25-de9c-4b96-b1f2-7ef8d50f1e26",
   "metadata": {},
   "source": [
    "# Question 2: Hypothesis test - Is the average cholesterol level > 240 mg/dl?\n",
    "#### Null: Average cholesterol level = 240 mg/dl\n",
    "#### Alternative: Average cholesterol level > 240 mg/dl"
   ]
  },
  {
   "cell_type": "code",
   "execution_count": null,
   "id": "197d685b-a6d8-4b2a-bf05-1552923728bf",
   "metadata": {},
   "outputs": [],
   "source": []
  },
  {
   "cell_type": "code",
   "execution_count": 69,
   "id": "9f99fb32-7cdc-4599-8091-9887c9783825",
   "metadata": {},
   "outputs": [
    {
     "name": "stdout",
     "output_type": "stream",
     "text": [
      "0.0035411033905155707\n"
     ]
    }
   ],
   "source": [
    "tstat, pval = ttest_1samp(cholestrol_level_yes, 240)\n",
    "print(pval/2)"
   ]
  },
  {
   "cell_type": "markdown",
   "id": "cd688f7c-fa13-4ace-b0d8-f9a6def2243d",
   "metadata": {},
   "source": [
    "#### Conclusion: Since the p-value (0.0035) is much lower than the common significance level of 0.05 (5%), would `reject the null hypothesis`. This means that there is statistically significant evidence to conclude that people with heart disease have an average cholesterol level greater than 240 mg/dL."
   ]
  },
  {
   "cell_type": "code",
   "execution_count": null,
   "id": "c08614e6-9780-4307-b57a-a6b1d0b11ca9",
   "metadata": {},
   "outputs": [],
   "source": []
  },
  {
   "cell_type": "code",
   "execution_count": null,
   "id": "95cfab15-1e81-4c5c-8377-1c5f97655c50",
   "metadata": {},
   "outputs": [],
   "source": []
  },
  {
   "cell_type": "markdown",
   "id": "5ecb3fa6-4ed4-4270-9af1-390d7f9d243a",
   "metadata": {},
   "source": [
    "# Question 3: Calculate mean cholesterol level for patients `without heart disease` (Cholestrol level above 240 mg/dL is considered high)."
   ]
  },
  {
   "cell_type": "code",
   "execution_count": 70,
   "id": "a9a35030-daf6-484c-9ff3-e789ae39700f",
   "metadata": {},
   "outputs": [
    {
     "name": "stdout",
     "output_type": "stream",
     "text": [
      "242.640243902439\n"
     ]
    }
   ],
   "source": [
    "cholestrol_level_no = no_hd.chol\n",
    "print(np.mean(cholestrol_level_no))"
   ]
  },
  {
   "cell_type": "markdown",
   "id": "0cfb452b-10b4-4ab2-87c4-973b83ee60f4",
   "metadata": {},
   "source": [
    "### Therefore: total cholesterol over 240 mg/dl is considered “high” (and therefore unhealthy) without heart disease."
   ]
  },
  {
   "cell_type": "code",
   "execution_count": null,
   "id": "631f944c-765f-4717-a230-6e72195108a7",
   "metadata": {},
   "outputs": [],
   "source": []
  },
  {
   "cell_type": "code",
   "execution_count": null,
   "id": "4746d8ad-f8ab-4388-99f9-a8cc811cc6de",
   "metadata": {},
   "outputs": [],
   "source": []
  },
  {
   "cell_type": "markdown",
   "id": "df8510f3-b239-41ca-86b6-0169f583aa94",
   "metadata": {},
   "source": [
    "# Question 4: Hypothesis test - Is the average cholesterol level > 240 mg/dl (for no heart disease)?\n",
    "#### Null: Average cholesterol level = 240 mg/dl\n",
    "#### Alternative: Average cholesterol level > 240 mg/dl"
   ]
  },
  {
   "cell_type": "code",
   "execution_count": 62,
   "id": "53e1be5f-4def-4c61-af7b-a2488297ad89",
   "metadata": {
    "scrolled": true
   },
   "outputs": [
    {
     "name": "stdout",
     "output_type": "stream",
     "text": [
      "0.26397120232220506\n"
     ]
    }
   ],
   "source": [
    "tstat, pval = ttest_1samp(cholestrol_level_no, 240)\n",
    "print(pval/2)"
   ]
  },
  {
   "cell_type": "markdown",
   "id": "6fd4dd62-2ac5-4ae8-a840-eec3316dc074",
   "metadata": {},
   "source": [
    "#### Conclusion: Since the p-value (0.263) is greater than the common significance level of 0.05 (or 5%), it indicates that there is `no significant evidence to reject the null hypothesis`. In other words, based on the data, there isn't enough evidence to conclude that people with heart disease have a significantly higher average cholesterol level than 240 mg/dL."
   ]
  },
  {
   "cell_type": "code",
   "execution_count": null,
   "id": "2a1ad413-c587-4fac-84ae-469d62c91d02",
   "metadata": {},
   "outputs": [],
   "source": []
  },
  {
   "cell_type": "code",
   "execution_count": null,
   "id": "7d6a759f-bd43-479a-b11e-9e2d7a9d3d66",
   "metadata": {},
   "outputs": [],
   "source": []
  },
  {
   "cell_type": "markdown",
   "id": "33127a17-8439-42eb-b70f-fe66439771da",
   "metadata": {},
   "source": [
    "# Fasting Blood Sugar (fbs) Analysis"
   ]
  },
  {
   "cell_type": "markdown",
   "id": "f9f40529-e4f9-4901-a337-61f95fb9024b",
   "metadata": {},
   "source": [
    "# Question 5: Number of patients in the dataset"
   ]
  },
  {
   "cell_type": "code",
   "execution_count": 73,
   "id": "85695ca2-753e-4766-ac99-64b439425f1f",
   "metadata": {},
   "outputs": [
    {
     "name": "stdout",
     "output_type": "stream",
     "text": [
      "Total number of patients: 303\n"
     ]
    }
   ],
   "source": [
    "num_patients = len(df)\n",
    "print(f\"Total number of patients: {num_patients}\")"
   ]
  },
  {
   "cell_type": "code",
   "execution_count": null,
   "id": "c8cecc73-4ec6-41d0-bb93-256fec5d678f",
   "metadata": {},
   "outputs": [],
   "source": []
  },
  {
   "cell_type": "code",
   "execution_count": null,
   "id": "5af8afdc-825e-4fe2-901c-d47303ba85f5",
   "metadata": {},
   "outputs": [],
   "source": []
  },
  {
   "cell_type": "markdown",
   "id": "5c8f2f16-f4da-4da6-ba47-dee8a542f9d2",
   "metadata": {},
   "source": [
    "# Question 6: Number of patients with fasting blood sugar > 120mg/dl.\n",
    "#### fbs (1 = fbs > 120 mg/dl, 0 = fbs <= 120 mg/dl)"
   ]
  },
  {
   "cell_type": "code",
   "execution_count": 74,
   "id": "8e335d2b-e418-4210-803e-49c076a3b497",
   "metadata": {},
   "outputs": [
    {
     "name": "stdout",
     "output_type": "stream",
     "text": [
      "Number of patients with high fasting blood sugar > 120mg/dl: 45\n"
     ]
    }
   ],
   "source": [
    "num_highfbs_patients = np.sum(df.fbs)\n",
    "print(f\"Number of patients with high fasting blood sugar > 120mg/dl: {num_highfbs_patients}\")"
   ]
  },
  {
   "cell_type": "code",
   "execution_count": null,
   "id": "3ed5db03-dc0d-49c7-980e-3ef3e0dbb13d",
   "metadata": {},
   "outputs": [],
   "source": []
  },
  {
   "cell_type": "code",
   "execution_count": null,
   "id": "1dcd8c68-8fce-47eb-b646-a2a569bff181",
   "metadata": {},
   "outputs": [],
   "source": []
  },
  {
   "cell_type": "markdown",
   "id": "f0717936-74a6-46f4-87a3-6bd7950b386e",
   "metadata": {},
   "source": [
    "# Question 7: Expected number of diabetic patients based on 8% prevalence\n",
    "#### Given that approximately 8% of the U.S. population had diabetes in 1988, calculate the expected number of patients with diabetes in your sample based on this percentage."
   ]
  },
  {
   "cell_type": "code",
   "execution_count": 76,
   "id": "5074ea24-9dcc-429b-9a82-396de4d8cca3",
   "metadata": {},
   "outputs": [
    {
     "name": "stdout",
     "output_type": "stream",
     "text": [
      "Expected number of diabetic patients in the sample: 3.6\n"
     ]
    }
   ],
   "source": [
    "num_patient = 303 # Represent No. of people in the dataset(df)\n",
    "prevalence_rate = 0.08  # 8%\n",
    "\n",
    "expected_diabetic_patients = prevalence_rate * num_highfbs_patients\n",
    "print(f\"Expected number of diabetic patients in the sample: {expected_diabetic_patients}\")"
   ]
  },
  {
   "cell_type": "markdown",
   "id": "c7fd4011-1729-45fe-94bb-e5ff93968312",
   "metadata": {},
   "source": [
    "#### Conclusion: This means, with a sample size of 303 patients, approximately 3 or 4 patients to have diabetes based on an 8% prevalence rate."
   ]
  },
  {
   "cell_type": "code",
   "execution_count": null,
   "id": "b59120a8-f607-4157-b604-8997c9c50116",
   "metadata": {},
   "outputs": [],
   "source": []
  },
  {
   "cell_type": "code",
   "execution_count": null,
   "id": "2af30ce7-f0db-4c13-a700-b9ad3b2af6e2",
   "metadata": {},
   "outputs": [],
   "source": []
  },
  {
   "cell_type": "markdown",
   "id": "8d7f9b11-a8cd-485b-8f4c-d2fc81a65f28",
   "metadata": {},
   "source": [
    "# Question 8: Hypothesis test - Is the sample rate of fbs > 120 mg/dl different from 8%?\n",
    "#### Null: Sample rate = 8%\n",
    "#### Alternative: Sample rate > 8%"
   ]
  },
  {
   "cell_type": "code",
   "execution_count": 77,
   "id": "197ea52e-e4e3-4d2d-9042-d91e61d0d31d",
   "metadata": {},
   "outputs": [
    {
     "name": "stdout",
     "output_type": "stream",
     "text": [
      "P-value: 0.0000469\n"
     ]
    }
   ],
   "source": [
    "# using binomial test\n",
    "num_patient = 303\n",
    "num_highfbs_patients = 45\n",
    "\n",
    "\n",
    "pval = 1 - binom.cdf(num_highfbs_patients - 1, num_patient, .08)\n",
    "print(f\"P-value: {pval:.7f}\")"
   ]
  },
  {
   "cell_type": "markdown",
   "id": "eced3d03-f380-4fc3-b813-fb36c512ddce",
   "metadata": {},
   "source": [
    "#### In summary, a p-value of 0.0000469 suggests that there is strong statistical evidence to conclude that the proportion of patients with high fasting blood sugar is significantly different from the expected 8%. This finding could have important implications for understanding health risks or guiding treatment strategies in the population being studied.\n",
    "\n",
    "#### This result may have practical implications in a clinical or public health context. It suggests that the prevalence of high fasting blood sugar in the sample is significantly higher than expected, which could warrant further investigation or intervention.\n"
   ]
  },
  {
   "cell_type": "code",
   "execution_count": null,
   "id": "1b31d3d2-be83-4fed-8ed9-2b711d6ec753",
   "metadata": {},
   "outputs": [],
   "source": []
  },
  {
   "cell_type": "code",
   "execution_count": null,
   "id": "e133481e-8f52-4e82-9524-7d945f9626d0",
   "metadata": {},
   "outputs": [],
   "source": []
  },
  {
   "cell_type": "markdown",
   "id": "2ae1f1ee-7117-4e6d-8d0d-5c70686e7921",
   "metadata": {},
   "source": [
    "# Summary of Findings:"
   ]
  },
  {
   "cell_type": "markdown",
   "id": "303d3482-9b4b-4311-905e-50597084e91c",
   "metadata": {},
   "source": [
    "#### Cholesterol Levels:\n",
    "#### The mean cholesterol level for people with heart disease is 251.47 mg/dL, significantly higher than 240 mg/dL (p-value: 0.0035). This suggests that people with heart disease tend to have high cholesterol levels.\n",
    "#### For people without heart disease, the mean cholesterol level is 242.64 mg/dL, but there is no significant evidence that it's higher than 240 mg/dL (p-value: 0.263)."
   ]
  },
  {
   "cell_type": "code",
   "execution_count": null,
   "id": "804547c2-657c-4b20-8029-b9d4ea621991",
   "metadata": {},
   "outputs": [],
   "source": []
  },
  {
   "cell_type": "markdown",
   "id": "d5ce1b8c-5289-4eb7-8bd5-e54312273389",
   "metadata": {},
   "source": [
    "#### Fasting Blood Sugar (fbs):\n",
    "#### Out of 303 patients, 45 have fasting blood sugar levels above 120 mg/dL.\n",
    "#### Based on an 8% diabetes prevalence, approximately 3 or 4 patients are expected to have diabetes.\n",
    "#### The binomial test shows strong evidence that the actual prevalence of high fasting blood sugar in this sample is significantly higher than 8% (p-value: 0.0000469)."
   ]
  },
  {
   "cell_type": "code",
   "execution_count": null,
   "id": "89213503-a75e-48bb-a3d9-886eee6265c6",
   "metadata": {},
   "outputs": [],
   "source": []
  },
  {
   "cell_type": "code",
   "execution_count": null,
   "id": "ac68b216-a2b1-40cb-8045-67b5d1f81343",
   "metadata": {},
   "outputs": [],
   "source": []
  },
  {
   "cell_type": "code",
   "execution_count": null,
   "id": "84caf27c-20a2-468a-af96-d39ceac04a0f",
   "metadata": {},
   "outputs": [],
   "source": []
  }
 ],
 "metadata": {
  "kernelspec": {
   "display_name": "Python 3 (ipykernel)",
   "language": "python",
   "name": "python3"
  },
  "language_info": {
   "codemirror_mode": {
    "name": "ipython",
    "version": 3
   },
   "file_extension": ".py",
   "mimetype": "text/x-python",
   "name": "python",
   "nbconvert_exporter": "python",
   "pygments_lexer": "ipython3",
   "version": "3.12.3"
  }
 },
 "nbformat": 4,
 "nbformat_minor": 5
}
